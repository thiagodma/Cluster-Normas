{
  "nbformat": 4,
  "nbformat_minor": 0,
  "metadata": {
    "colab": {
      "name": "get_sentence_representation.ipynb",
      "version": "0.3.2",
      "provenance": []
    },
    "kernelspec": {
      "name": "python3",
      "display_name": "Python 3"
    },
    "accelerator": "GPU"
  },
  "cells": [
    {
      "cell_type": "code",
      "metadata": {
        "id": "zAUaoVF-qmd6",
        "colab_type": "code",
        "colab": {}
      },
      "source": [
        "%reload_ext autoreload\n",
        "%autoreload 2\n",
        "%matplotlib inline"
      ],
      "execution_count": 0,
      "outputs": []
    },
    {
      "cell_type": "code",
      "metadata": {
        "id": "zZYwe-dNqrNd",
        "colab_type": "code",
        "colab": {}
      },
      "source": [
        "from fastai import *\n",
        "from fastai.text import *"
      ],
      "execution_count": 0,
      "outputs": []
    },
    {
      "cell_type": "markdown",
      "metadata": {
        "id": "lwFydbG2pJ7T",
        "colab_type": "text"
      },
      "source": [
        "# **1.First I need to train a language model**"
      ]
    },
    {
      "cell_type": "code",
      "metadata": {
        "id": "GEt2ayQFqs40",
        "colab_type": "code",
        "colab": {}
      },
      "source": [
        "path = untar_data(URLs.IMDB_SAMPLE)\n",
        "data_lm = TextLMDataBunch.from_csv(path, 'texts.csv')"
      ],
      "execution_count": 0,
      "outputs": []
    },
    {
      "cell_type": "code",
      "metadata": {
        "id": "Ns9JAC3aqs_k",
        "colab_type": "code",
        "colab": {}
      },
      "source": [
        "learn_lm = language_model_learner(data_lm, AWD_LSTM, drop_mult=0.5)"
      ],
      "execution_count": 0,
      "outputs": []
    },
    {
      "cell_type": "code",
      "metadata": {
        "id": "_EG5jkACqtCG",
        "colab_type": "code",
        "outputId": "361133f7-74d5-4ef7-d0b2-46afe5993065",
        "colab": {
          "base_uri": "https://localhost:8080/",
          "height": 80
        }
      },
      "source": [
        "learn_lm.fit_one_cycle(1, 1e-2)"
      ],
      "execution_count": 0,
      "outputs": [
        {
          "output_type": "display_data",
          "data": {
            "text/html": [
              "<table border=\"1\" class=\"dataframe\">\n",
              "  <thead>\n",
              "    <tr style=\"text-align: left;\">\n",
              "      <th>epoch</th>\n",
              "      <th>train_loss</th>\n",
              "      <th>valid_loss</th>\n",
              "      <th>accuracy</th>\n",
              "      <th>time</th>\n",
              "    </tr>\n",
              "  </thead>\n",
              "  <tbody>\n",
              "    <tr>\n",
              "      <td>0</td>\n",
              "      <td>4.325931</td>\n",
              "      <td>3.912266</td>\n",
              "      <td>0.282733</td>\n",
              "      <td>00:22</td>\n",
              "    </tr>\n",
              "  </tbody>\n",
              "</table>"
            ],
            "text/plain": [
              "<IPython.core.display.HTML object>"
            ]
          },
          "metadata": {
            "tags": []
          }
        }
      ]
    },
    {
      "cell_type": "code",
      "metadata": {
        "id": "OfQV_U2hvq6u",
        "colab_type": "code",
        "colab": {}
      },
      "source": [
        "learn_lm.save_encoder('enc')"
      ],
      "execution_count": 0,
      "outputs": []
    },
    {
      "cell_type": "markdown",
      "metadata": {
        "id": "7ZNyN-nypUcA",
        "colab_type": "text"
      },
      "source": [
        "# **2. This is what a think is how to get the sentence representation**"
      ]
    },
    {
      "cell_type": "code",
      "metadata": {
        "id": "ZLL5D9NjbMTl",
        "colab_type": "code",
        "colab": {}
      },
      "source": [
        "def masked_concat_pool(outputs, mask):\n",
        "    \"Pool MultiBatchEncoder outputs into one vector [last_hidden, max_pool, avg_pool].\"\n",
        "    output = outputs[-1]\n",
        "    avg_pool = output.masked_fill(mask[:, :, None], 0).mean(dim=1)\n",
        "    avg_pool *= output.size(1) / (output.size(1)-mask.type(avg_pool.dtype).sum(dim=1))[:,None]\n",
        "    max_pool = output.masked_fill(mask[:,:,None], -float('inf')).max(dim=1)[0]\n",
        "    x = torch.cat([output[:,-1], max_pool, avg_pool], 1)\n",
        "    return x"
      ],
      "execution_count": 0,
      "outputs": []
    },
    {
      "cell_type": "code",
      "metadata": {
        "id": "TYHoqizCqtEQ",
        "colab_type": "code",
        "colab": {}
      },
      "source": [
        "xb,yb = learn_lm.data.one_item('i did not like this movie because it was really bad.')\n",
        "sentence = torch.cuda.LongTensor(xb.tolist()[0]).unsqueeze(0)\n",
        "mbe = MultiBatchEncoder(70,1400,learn_lm.model[0])\n",
        "raw_outputs, outputs, masks = mbe.forward(sentence)\n",
        "sentence_rep = masked_concat_pool(outputs, masks)"
      ],
      "execution_count": 0,
      "outputs": []
    },
    {
      "cell_type": "code",
      "metadata": {
        "id": "BmH5fPZ1b1T9",
        "colab_type": "code",
        "outputId": "7cc7e7f0-e149-47df-a4d4-78d8b1db2ddb",
        "colab": {
          "base_uri": "https://localhost:8080/",
          "height": 34
        }
      },
      "source": [
        "sentence_rep.shape"
      ],
      "execution_count": 0,
      "outputs": [
        {
          "output_type": "execute_result",
          "data": {
            "text/plain": [
              "torch.Size([1, 1200])"
            ]
          },
          "metadata": {
            "tags": []
          },
          "execution_count": 8
        }
      ]
    },
    {
      "cell_type": "markdown",
      "metadata": {
        "id": "7ruYAo46phDX",
        "colab_type": "text"
      },
      "source": [
        "# **3. Lets see what accuracy fastai gets**"
      ]
    },
    {
      "cell_type": "code",
      "metadata": {
        "id": "C8-vUn_upeVC",
        "colab_type": "code",
        "colab": {}
      },
      "source": [
        "data_clas = TextClasDataBunch.from_csv(path,'texts.csv',vocab=data_lm.vocab)"
      ],
      "execution_count": 0,
      "outputs": []
    },
    {
      "cell_type": "code",
      "metadata": {
        "id": "e3lClfi-qJFU",
        "colab_type": "code",
        "outputId": "8c5d2baa-ceed-4253-acc7-d437b7e5f882",
        "colab": {
          "base_uri": "https://localhost:8080/",
          "height": 1000
        }
      },
      "source": [
        "learn_clas = text_classifier_learner(data_clas, AWD_LSTM, drop_mult=0.5)\n",
        "learn_clas.load_encoder('enc')"
      ],
      "execution_count": 0,
      "outputs": [
        {
          "output_type": "execute_result",
          "data": {
            "text/plain": [
              "RNNLearner(data=TextClasDataBunch;\n",
              "\n",
              "Train: LabelList (799 items)\n",
              "x: TextList\n",
              "xxbos xxmaj this is a romantic comedy with the emphasis on comedy for a change . xxmaj as usual the lovers -- xxmaj sally xxmaj field as almost - over - the - hill soap opera queen , xxmaj celeste xxmaj xxunk ; and xxmaj kevin xxmaj kline as marginally employed and marginally talented actor , xxmaj jeffrey xxmaj anderson -- are working at cross purposes , seemingly unaware that they are xxunk in love , etc . xxmaj xxunk a little to xxmaj bette xxmaj davis 's xxmaj margo xxmaj xxunk in xxmaj all xxmaj about xxmaj eve ( 1950 ) and a whole lot to the slapstick theatrical tradition , xxmaj sally xxmaj field goes over the top towards hilarity as she xxunk her way to love and happiness . xxmaj kevin xxmaj kline , one of the more underrated leading men of recent years , is also very good and very winning as he manages to be handsome , vulnerable , xxunk and lovable all at the same time . \n",
              " \n",
              "  xxmaj the xxunk center around xxmaj celeste 's fear of losing her audience as she has entered her forties , and reach the crisis point with the arrival of her niece , xxunk actress xxmaj cori xxmaj craven ( xxmaj xxunk xxmaj xxunk ) who turns out xxup not to be her niece , with ensuing plot xxunk . xxmaj cori manages to get a small part in the soap opera as a homeless deaf mute before discovering her true relationship to xxmaj celeste ( and to xxmaj jeffrey xxmaj anderson as xxunk never mind . \n",
              " \n",
              "  xxmaj as a romantic xxunk or xxunk to the leads are xxmaj robert xxmaj downey xxmaj jr. ( soap opera director , xxmaj david xxmaj barnes ) and xxmaj cathy xxmaj xxunk ( xxmaj montana and xxmaj nurse xxmaj xxunk ) . xxmaj david xxmaj barnes is oh so hot for her , but she cares only about one thing : getting rid of xxmaj celeste so that she might shine more brightly on the set . xxmaj to this end she gets xxmaj barnes to do all sorts of things to wreck xxmaj celeste 's career , but through happenstance and / or a xxunk logic , all his attempts go awry , much to the delight of the viewer . \n",
              " \n",
              "  xxmaj xxunk xxmaj goldberg plays xxmaj rose xxmaj xxunk , the show 's chief writer and xxmaj celeste 's xxunk - ego and confidant while xxmaj carrie xxmaj fisher has a xxunk part as the hard - as - nails producer of the show . \n",
              " \n",
              "  i thought this was funnier than the only other spoof of the soap opera world that i have seen ( xxmaj young xxmaj doctors in xxmaj love 1982 which xxunk xxup tv 's xxmaj general xxmaj hospital and was pretty good ) . xxmaj xxunk is funnier with a xxunk script and plenty of laugh - out - loud one - liners and terrific performances by xxmaj field , xxmaj kline and xxmaj xxunk , xxmaj jr. xxmaj but see this for xxmaj sally xxmaj field who is outstanding .,xxbos i watched , xxunk and xxunk , by the vocal and physical acting . xxmaj the roles each character played were done with excellence . xxmaj the lyrics , the words , every xxunk , the sunrise , told it all . xxmaj the movie spoke to me . xxmaj it enlightened me to a different perception of a person who believes in mankind . xxmaj who believes in peace and xxunk behavior . i was also held in xxunk , by the sacrifices and human dignity was portrayed . xxmaj power without grace , is demented and without feelings . xxmaj to want power at the cost of mankind , is so unbelievable . xxmaj this movie made me so afraid for the people who are no longer in this world . xxmaj and , it is with sadness that i think of them . i like this movie for the conversations and face expressions to it all . xxmaj may this movie be blessed .,xxbos xxmaj from the start , you know how this movie will end . xxmaj it 's so full of clichés your typical xxup xxunk member will not even like this movie . i give it 2 out of 10 , only because of the acting of xxmaj william xxmaj xxunk . i ca n't believe people voted 6 + for this movie . xxmaj it 's so biased towards a ' certain point of view ' ( once a thief ... ) . xxmaj people are n't born bad . xxmaj neither are they born good . xxmaj they are born with a clean xxunk . xxmaj it 's society , parents and education what makes them who they are . xxmaj and if they take the wrong turn , somewhere down the line , it certainly is n't going to be the xxmaj american xxunk system that gets them back on track ! xxmaj anyway , avoid this movie like the plague . i bet you have better things to do with your time than waste it on this piece of crap . \n",
              " \n",
              " ,xxbos xxmaj xxunk xxmaj xxunk xxmaj tom is so beautifully filmed and beautifully xxunk . xxmaj it is n't completely faithful to the book , but does it have to be ? xxmaj no , not at all . xxmaj john xxmaj xxunk is xxunk as xxmaj tom xxmaj xxunk . xxmaj his transformation from gruff to caring was so well xxunk , making it more believable than xxmaj scrooge in xxmaj christmas xxmaj carol . xxmaj after xxmaj inspector xxmaj morse , this is xxmaj xxunk 's finest hour . xxmaj he was matched xxunk by a young xxmaj nick xxmaj robinson , who gave a thoroughly convincing portrayal of an xxunk xxunk by the abusive relationship with his mother . xxmaj the script and music made it worth the buy , and you also see xxmaj xxunk playing the xxunk . xxmaj amazing ! xxmaj the most moving scene , was xxmaj willie finding out about xxmaj xxunk 's death , and then xxmaj tom telling him about his deceased family who died of xxunk . xxmaj buy this , you 'll love it ! 10 / 10 xxmaj xxunk xxmaj cox,xxbos xxmaj this is a really interesting movie . xxmaj it is an action movie with comedy mixed in . xxmaj foxx teams up with comedian xxmaj epps in this movie to give it a comedic spin . xxmaj it will keep you wondering what s going to happen to xxmaj foxx next . xxmaj it was a well shot movie , the director used the right colors in this xxunk blue colors ) to give it the right kind of feel . xxmaj xxunk xxmaj xxunk also starred in this movie and it is always a pleasure to see her on the big screen . xxmaj she plays her role well . xxmaj even xxmaj jamie xxmaj kennedy is in this movie . xxmaj it 's worth seeing it you have n't seen it . xxmaj it 's definitely worth having if you are a xxmaj jamie xxmaj foxx fan . xxmaj it deserves more credit than it is actually given .\n",
              "y: CategoryList\n",
              "positive,positive,negative,positive,positive\n",
              "Path: /root/.fastai/data/imdb_sample;\n",
              "\n",
              "Valid: LabelList (201 items)\n",
              "x: TextList\n",
              "xxbos xxmaj this movie was the most horrible movie watching experience i have ever had to endure , and what is worse is the fact that i had to watch it , and did n't have the opportunity to stop it because it was for school ! xxmaj admittedly , the storyline was decent ... but i found the acting terrible ! xxmaj the exception was xxmaj xxunk xxmaj jean - xxmaj xxunk , i thought her performance was wonderful . xxmaj she was the only highlight , without her , i doubt i would have been able to bear watching the film . xxmaj every time i hear somebody say \" xxunk \" i cringe ! i nearly attacked a xxunk the other day because they said \" it \" . xxmaj it made me remember one of the worst one and a half hours of my life ! \n",
              " \n",
              "  ( i xxunk if this has offended anybody , i am only xxunk my opinion ),xxbos i and a friend rented this movie . xxmaj we both found the movie soundtrack and production techniques to be xxunk . xxmaj the movie 's plot appeared to drag on throughout with little surprise in the ending . xxmaj we both agreed that the movie could have been xxunk into roughly an hour giving it more suspense and moving plot .,xxbos i really liked this movie , and went back to see it two times more within a week . \n",
              " \n",
              "  xxmaj ms. xxmaj xxunk xxunk the performance - she was like a xxunk cat on the xxunk , toying with her prey . xxmaj she xxunk out in rage and lust , taking a \" too young \" lover , and crashing hundreds of her terrorist fiancé 's mother 's pieces of fine china to the floor . \n",
              " \n",
              "  xxmaj the film was full of beautiful touches . xxmaj the xxmaj xxunk , the wonderful wardrobe , the xxunk xxunk along the xxunk . i particularly enjoyed the ancient xxmaj greek class and the xxunk of ' xxmaj xxunk ' . \n",
              " \n",
              "  xxmaj it had a feeling of ' xxmaj story of o ' - that is , where people of means indulge in xxunk sexual adventure . xxmaj as she walks around the fantastic apartment in the buff , she is at ease - and why not , what is to restrain a \" xxmaj devil in the xxmaj flesh \" ? \n",
              " \n",
              "  xxmaj the whole movie is a real treat !,xxbos xxmaj in keeping with xxmaj disney 's well - known practice of stealing .. i mean .. buying out known xxunk and xxunk them , this live - action version of the xxunk cartoon classic has got to be one of the worst re - makes in a year of bad re - makes . i grew up on the original cartoon xxup tv series . xxmaj any episode of the original cartoon series will give you more laughs than this entire movie . xxmaj not present is xxmaj penny 's cool computer book . xxmaj also not present is the gag with the self - xxunk orders that always ends up xxunk on the xxmaj chief . xxmaj new are a smooth talking xxmaj xxunk convertible ( the original cartoon had a xxunk vehicle that could turn into a van or a car ) and an element of a typical , unrealistic xxmaj hollywood romance . xxmaj do n't fill the xxunk to pay for xxmaj disney executives and even their _ xxunk - do n't see this movie . \n",
              " \n",
              " ,xxbos xxmaj if you 're a t - xxmaj xxunk / xxmaj marc xxmaj bolan fan , i recommend you check this out . xxmaj it shows a whimsical side of xxmaj marc xxmaj bolan as well as xxmaj ringo xxmaj starr , apparently having a pretty good time shooting some of the scenes that are n't part of the concert , but fun to watch , leaving you with a sense of getting to know them as just people , and when the concert is shown a talented musician , both xxunk and professional that rocks and seems to impress the screaming girls . xxmaj watching him in concert , you would never know that being a rock star is a job , but just having a great time playing some great songs with some good friends , like xxmaj xxunk xxmaj john and xxmaj ringo xxmaj starr appearing in some of the live performances . xxmaj true , there are a few songs missing that i would like to have seen on there , but like any album it ca n't have everything . i just bought this in 2006 , but if i would have know it came out in 1972 , i would have definitely bought it years ago . xxmaj sad and strange that a man with so many songs about his love for cars , would never learn to drive and would die in a car crash !\n",
              "y: CategoryList\n",
              "negative,negative,positive,negative,positive\n",
              "Path: /root/.fastai/data/imdb_sample;\n",
              "\n",
              "Test: None, model=SequentialRNN(\n",
              "  (0): MultiBatchEncoder(\n",
              "    (module): AWD_LSTM(\n",
              "      (encoder): Embedding(8912, 400, padding_idx=1)\n",
              "      (encoder_dp): EmbeddingDropout(\n",
              "        (emb): Embedding(8912, 400, padding_idx=1)\n",
              "      )\n",
              "      (rnns): ModuleList(\n",
              "        (0): WeightDropout(\n",
              "          (module): LSTM(400, 1152, batch_first=True)\n",
              "        )\n",
              "        (1): WeightDropout(\n",
              "          (module): LSTM(1152, 1152, batch_first=True)\n",
              "        )\n",
              "        (2): WeightDropout(\n",
              "          (module): LSTM(1152, 400, batch_first=True)\n",
              "        )\n",
              "      )\n",
              "      (input_dp): RNNDropout()\n",
              "      (hidden_dps): ModuleList(\n",
              "        (0): RNNDropout()\n",
              "        (1): RNNDropout()\n",
              "        (2): RNNDropout()\n",
              "      )\n",
              "    )\n",
              "  )\n",
              "  (1): PoolingLinearClassifier(\n",
              "    (layers): Sequential(\n",
              "      (0): BatchNorm1d(1200, eps=1e-05, momentum=0.1, affine=True, track_running_stats=True)\n",
              "      (1): Dropout(p=0.2)\n",
              "      (2): Linear(in_features=1200, out_features=50, bias=True)\n",
              "      (3): ReLU(inplace)\n",
              "      (4): BatchNorm1d(50, eps=1e-05, momentum=0.1, affine=True, track_running_stats=True)\n",
              "      (5): Dropout(p=0.1)\n",
              "      (6): Linear(in_features=50, out_features=2, bias=True)\n",
              "    )\n",
              "  )\n",
              "), opt_func=functools.partial(<class 'torch.optim.adam.Adam'>, betas=(0.9, 0.99)), loss_func=FlattenedLoss of CrossEntropyLoss(), metrics=[<function accuracy at 0x7f28b80f3b70>], true_wd=True, bn_wd=True, wd=0.01, train_bn=True, path=PosixPath('/root/.fastai/data/imdb_sample'), model_dir='models', callback_fns=[functools.partial(<class 'fastai.basic_train.Recorder'>, add_time=True, silent=False)], callbacks=[RNNTrainer\n",
              "learn: RNNLearner(data=TextClasDataBunch;\n",
              "\n",
              "Train: LabelList (799 items)\n",
              "x: TextList\n",
              "xxbos xxmaj this is a romantic comedy with the emphasis on comedy for a change . xxmaj as usual the lovers -- xxmaj sally xxmaj field as almost - over - the - hill soap opera queen , xxmaj celeste xxmaj xxunk ; and xxmaj kevin xxmaj kline as marginally employed and marginally talented actor , xxmaj jeffrey xxmaj anderson -- are working at cross purposes , seemingly unaware that they are xxunk in love , etc . xxmaj xxunk a little to xxmaj bette xxmaj davis 's xxmaj margo xxmaj xxunk in xxmaj all xxmaj about xxmaj eve ( 1950 ) and a whole lot to the slapstick theatrical tradition , xxmaj sally xxmaj field goes over the top towards hilarity as she xxunk her way to love and happiness . xxmaj kevin xxmaj kline , one of the more underrated leading men of recent years , is also very good and very winning as he manages to be handsome , vulnerable , xxunk and lovable all at the same time . \n",
              " \n",
              "  xxmaj the xxunk center around xxmaj celeste 's fear of losing her audience as she has entered her forties , and reach the crisis point with the arrival of her niece , xxunk actress xxmaj cori xxmaj craven ( xxmaj xxunk xxmaj xxunk ) who turns out xxup not to be her niece , with ensuing plot xxunk . xxmaj cori manages to get a small part in the soap opera as a homeless deaf mute before discovering her true relationship to xxmaj celeste ( and to xxmaj jeffrey xxmaj anderson as xxunk never mind . \n",
              " \n",
              "  xxmaj as a romantic xxunk or xxunk to the leads are xxmaj robert xxmaj downey xxmaj jr. ( soap opera director , xxmaj david xxmaj barnes ) and xxmaj cathy xxmaj xxunk ( xxmaj montana and xxmaj nurse xxmaj xxunk ) . xxmaj david xxmaj barnes is oh so hot for her , but she cares only about one thing : getting rid of xxmaj celeste so that she might shine more brightly on the set . xxmaj to this end she gets xxmaj barnes to do all sorts of things to wreck xxmaj celeste 's career , but through happenstance and / or a xxunk logic , all his attempts go awry , much to the delight of the viewer . \n",
              " \n",
              "  xxmaj xxunk xxmaj goldberg plays xxmaj rose xxmaj xxunk , the show 's chief writer and xxmaj celeste 's xxunk - ego and confidant while xxmaj carrie xxmaj fisher has a xxunk part as the hard - as - nails producer of the show . \n",
              " \n",
              "  i thought this was funnier than the only other spoof of the soap opera world that i have seen ( xxmaj young xxmaj doctors in xxmaj love 1982 which xxunk xxup tv 's xxmaj general xxmaj hospital and was pretty good ) . xxmaj xxunk is funnier with a xxunk script and plenty of laugh - out - loud one - liners and terrific performances by xxmaj field , xxmaj kline and xxmaj xxunk , xxmaj jr. xxmaj but see this for xxmaj sally xxmaj field who is outstanding .,xxbos i watched , xxunk and xxunk , by the vocal and physical acting . xxmaj the roles each character played were done with excellence . xxmaj the lyrics , the words , every xxunk , the sunrise , told it all . xxmaj the movie spoke to me . xxmaj it enlightened me to a different perception of a person who believes in mankind . xxmaj who believes in peace and xxunk behavior . i was also held in xxunk , by the sacrifices and human dignity was portrayed . xxmaj power without grace , is demented and without feelings . xxmaj to want power at the cost of mankind , is so unbelievable . xxmaj this movie made me so afraid for the people who are no longer in this world . xxmaj and , it is with sadness that i think of them . i like this movie for the conversations and face expressions to it all . xxmaj may this movie be blessed .,xxbos xxmaj from the start , you know how this movie will end . xxmaj it 's so full of clichés your typical xxup xxunk member will not even like this movie . i give it 2 out of 10 , only because of the acting of xxmaj william xxmaj xxunk . i ca n't believe people voted 6 + for this movie . xxmaj it 's so biased towards a ' certain point of view ' ( once a thief ... ) . xxmaj people are n't born bad . xxmaj neither are they born good . xxmaj they are born with a clean xxunk . xxmaj it 's society , parents and education what makes them who they are . xxmaj and if they take the wrong turn , somewhere down the line , it certainly is n't going to be the xxmaj american xxunk system that gets them back on track ! xxmaj anyway , avoid this movie like the plague . i bet you have better things to do with your time than waste it on this piece of crap . \n",
              " \n",
              " ,xxbos xxmaj xxunk xxmaj xxunk xxmaj tom is so beautifully filmed and beautifully xxunk . xxmaj it is n't completely faithful to the book , but does it have to be ? xxmaj no , not at all . xxmaj john xxmaj xxunk is xxunk as xxmaj tom xxmaj xxunk . xxmaj his transformation from gruff to caring was so well xxunk , making it more believable than xxmaj scrooge in xxmaj christmas xxmaj carol . xxmaj after xxmaj inspector xxmaj morse , this is xxmaj xxunk 's finest hour . xxmaj he was matched xxunk by a young xxmaj nick xxmaj robinson , who gave a thoroughly convincing portrayal of an xxunk xxunk by the abusive relationship with his mother . xxmaj the script and music made it worth the buy , and you also see xxmaj xxunk playing the xxunk . xxmaj amazing ! xxmaj the most moving scene , was xxmaj willie finding out about xxmaj xxunk 's death , and then xxmaj tom telling him about his deceased family who died of xxunk . xxmaj buy this , you 'll love it ! 10 / 10 xxmaj xxunk xxmaj cox,xxbos xxmaj this is a really interesting movie . xxmaj it is an action movie with comedy mixed in . xxmaj foxx teams up with comedian xxmaj epps in this movie to give it a comedic spin . xxmaj it will keep you wondering what s going to happen to xxmaj foxx next . xxmaj it was a well shot movie , the director used the right colors in this xxunk blue colors ) to give it the right kind of feel . xxmaj xxunk xxmaj xxunk also starred in this movie and it is always a pleasure to see her on the big screen . xxmaj she plays her role well . xxmaj even xxmaj jamie xxmaj kennedy is in this movie . xxmaj it 's worth seeing it you have n't seen it . xxmaj it 's definitely worth having if you are a xxmaj jamie xxmaj foxx fan . xxmaj it deserves more credit than it is actually given .\n",
              "y: CategoryList\n",
              "positive,positive,negative,positive,positive\n",
              "Path: /root/.fastai/data/imdb_sample;\n",
              "\n",
              "Valid: LabelList (201 items)\n",
              "x: TextList\n",
              "xxbos xxmaj this movie was the most horrible movie watching experience i have ever had to endure , and what is worse is the fact that i had to watch it , and did n't have the opportunity to stop it because it was for school ! xxmaj admittedly , the storyline was decent ... but i found the acting terrible ! xxmaj the exception was xxmaj xxunk xxmaj jean - xxmaj xxunk , i thought her performance was wonderful . xxmaj she was the only highlight , without her , i doubt i would have been able to bear watching the film . xxmaj every time i hear somebody say \" xxunk \" i cringe ! i nearly attacked a xxunk the other day because they said \" it \" . xxmaj it made me remember one of the worst one and a half hours of my life ! \n",
              " \n",
              "  ( i xxunk if this has offended anybody , i am only xxunk my opinion ),xxbos i and a friend rented this movie . xxmaj we both found the movie soundtrack and production techniques to be xxunk . xxmaj the movie 's plot appeared to drag on throughout with little surprise in the ending . xxmaj we both agreed that the movie could have been xxunk into roughly an hour giving it more suspense and moving plot .,xxbos i really liked this movie , and went back to see it two times more within a week . \n",
              " \n",
              "  xxmaj ms. xxmaj xxunk xxunk the performance - she was like a xxunk cat on the xxunk , toying with her prey . xxmaj she xxunk out in rage and lust , taking a \" too young \" lover , and crashing hundreds of her terrorist fiancé 's mother 's pieces of fine china to the floor . \n",
              " \n",
              "  xxmaj the film was full of beautiful touches . xxmaj the xxmaj xxunk , the wonderful wardrobe , the xxunk xxunk along the xxunk . i particularly enjoyed the ancient xxmaj greek class and the xxunk of ' xxmaj xxunk ' . \n",
              " \n",
              "  xxmaj it had a feeling of ' xxmaj story of o ' - that is , where people of means indulge in xxunk sexual adventure . xxmaj as she walks around the fantastic apartment in the buff , she is at ease - and why not , what is to restrain a \" xxmaj devil in the xxmaj flesh \" ? \n",
              " \n",
              "  xxmaj the whole movie is a real treat !,xxbos xxmaj in keeping with xxmaj disney 's well - known practice of stealing .. i mean .. buying out known xxunk and xxunk them , this live - action version of the xxunk cartoon classic has got to be one of the worst re - makes in a year of bad re - makes . i grew up on the original cartoon xxup tv series . xxmaj any episode of the original cartoon series will give you more laughs than this entire movie . xxmaj not present is xxmaj penny 's cool computer book . xxmaj also not present is the gag with the self - xxunk orders that always ends up xxunk on the xxmaj chief . xxmaj new are a smooth talking xxmaj xxunk convertible ( the original cartoon had a xxunk vehicle that could turn into a van or a car ) and an element of a typical , unrealistic xxmaj hollywood romance . xxmaj do n't fill the xxunk to pay for xxmaj disney executives and even their _ xxunk - do n't see this movie . \n",
              " \n",
              " ,xxbos xxmaj if you 're a t - xxmaj xxunk / xxmaj marc xxmaj bolan fan , i recommend you check this out . xxmaj it shows a whimsical side of xxmaj marc xxmaj bolan as well as xxmaj ringo xxmaj starr , apparently having a pretty good time shooting some of the scenes that are n't part of the concert , but fun to watch , leaving you with a sense of getting to know them as just people , and when the concert is shown a talented musician , both xxunk and professional that rocks and seems to impress the screaming girls . xxmaj watching him in concert , you would never know that being a rock star is a job , but just having a great time playing some great songs with some good friends , like xxmaj xxunk xxmaj john and xxmaj ringo xxmaj starr appearing in some of the live performances . xxmaj true , there are a few songs missing that i would like to have seen on there , but like any album it ca n't have everything . i just bought this in 2006 , but if i would have know it came out in 1972 , i would have definitely bought it years ago . xxmaj sad and strange that a man with so many songs about his love for cars , would never learn to drive and would die in a car crash !\n",
              "y: CategoryList\n",
              "negative,negative,positive,negative,positive\n",
              "Path: /root/.fastai/data/imdb_sample;\n",
              "\n",
              "Test: None, model=SequentialRNN(\n",
              "  (0): MultiBatchEncoder(\n",
              "    (module): AWD_LSTM(\n",
              "      (encoder): Embedding(8912, 400, padding_idx=1)\n",
              "      (encoder_dp): EmbeddingDropout(\n",
              "        (emb): Embedding(8912, 400, padding_idx=1)\n",
              "      )\n",
              "      (rnns): ModuleList(\n",
              "        (0): WeightDropout(\n",
              "          (module): LSTM(400, 1152, batch_first=True)\n",
              "        )\n",
              "        (1): WeightDropout(\n",
              "          (module): LSTM(1152, 1152, batch_first=True)\n",
              "        )\n",
              "        (2): WeightDropout(\n",
              "          (module): LSTM(1152, 400, batch_first=True)\n",
              "        )\n",
              "      )\n",
              "      (input_dp): RNNDropout()\n",
              "      (hidden_dps): ModuleList(\n",
              "        (0): RNNDropout()\n",
              "        (1): RNNDropout()\n",
              "        (2): RNNDropout()\n",
              "      )\n",
              "    )\n",
              "  )\n",
              "  (1): PoolingLinearClassifier(\n",
              "    (layers): Sequential(\n",
              "      (0): BatchNorm1d(1200, eps=1e-05, momentum=0.1, affine=True, track_running_stats=True)\n",
              "      (1): Dropout(p=0.2)\n",
              "      (2): Linear(in_features=1200, out_features=50, bias=True)\n",
              "      (3): ReLU(inplace)\n",
              "      (4): BatchNorm1d(50, eps=1e-05, momentum=0.1, affine=True, track_running_stats=True)\n",
              "      (5): Dropout(p=0.1)\n",
              "      (6): Linear(in_features=50, out_features=2, bias=True)\n",
              "    )\n",
              "  )\n",
              "), opt_func=functools.partial(<class 'torch.optim.adam.Adam'>, betas=(0.9, 0.99)), loss_func=FlattenedLoss of CrossEntropyLoss(), metrics=[<function accuracy at 0x7f28b80f3b70>], true_wd=True, bn_wd=True, wd=0.01, train_bn=True, path=PosixPath('/root/.fastai/data/imdb_sample'), model_dir='models', callback_fns=[functools.partial(<class 'fastai.basic_train.Recorder'>, add_time=True, silent=False)], callbacks=[...], layer_groups=[Sequential(\n",
              "  (0): Embedding(8912, 400, padding_idx=1)\n",
              "  (1): EmbeddingDropout(\n",
              "    (emb): Embedding(8912, 400, padding_idx=1)\n",
              "  )\n",
              "), Sequential(\n",
              "  (0): WeightDropout(\n",
              "    (module): LSTM(400, 1152, batch_first=True)\n",
              "  )\n",
              "  (1): RNNDropout()\n",
              "), Sequential(\n",
              "  (0): WeightDropout(\n",
              "    (module): LSTM(1152, 1152, batch_first=True)\n",
              "  )\n",
              "  (1): RNNDropout()\n",
              "), Sequential(\n",
              "  (0): WeightDropout(\n",
              "    (module): LSTM(1152, 400, batch_first=True)\n",
              "  )\n",
              "  (1): RNNDropout()\n",
              "), Sequential(\n",
              "  (0): PoolingLinearClassifier(\n",
              "    (layers): Sequential(\n",
              "      (0): BatchNorm1d(1200, eps=1e-05, momentum=0.1, affine=True, track_running_stats=True)\n",
              "      (1): Dropout(p=0.2)\n",
              "      (2): Linear(in_features=1200, out_features=50, bias=True)\n",
              "      (3): ReLU(inplace)\n",
              "      (4): BatchNorm1d(50, eps=1e-05, momentum=0.1, affine=True, track_running_stats=True)\n",
              "      (5): Dropout(p=0.1)\n",
              "      (6): Linear(in_features=50, out_features=2, bias=True)\n",
              "    )\n",
              "  )\n",
              ")], add_time=True, silent=False, cb_fns_registered=False)\n",
              "alpha: 2.0\n",
              "beta: 1.0], layer_groups=[Sequential(\n",
              "  (0): Embedding(8912, 400, padding_idx=1)\n",
              "  (1): EmbeddingDropout(\n",
              "    (emb): Embedding(8912, 400, padding_idx=1)\n",
              "  )\n",
              "), Sequential(\n",
              "  (0): WeightDropout(\n",
              "    (module): LSTM(400, 1152, batch_first=True)\n",
              "  )\n",
              "  (1): RNNDropout()\n",
              "), Sequential(\n",
              "  (0): WeightDropout(\n",
              "    (module): LSTM(1152, 1152, batch_first=True)\n",
              "  )\n",
              "  (1): RNNDropout()\n",
              "), Sequential(\n",
              "  (0): WeightDropout(\n",
              "    (module): LSTM(1152, 400, batch_first=True)\n",
              "  )\n",
              "  (1): RNNDropout()\n",
              "), Sequential(\n",
              "  (0): PoolingLinearClassifier(\n",
              "    (layers): Sequential(\n",
              "      (0): BatchNorm1d(1200, eps=1e-05, momentum=0.1, affine=True, track_running_stats=True)\n",
              "      (1): Dropout(p=0.2)\n",
              "      (2): Linear(in_features=1200, out_features=50, bias=True)\n",
              "      (3): ReLU(inplace)\n",
              "      (4): BatchNorm1d(50, eps=1e-05, momentum=0.1, affine=True, track_running_stats=True)\n",
              "      (5): Dropout(p=0.1)\n",
              "      (6): Linear(in_features=50, out_features=2, bias=True)\n",
              "    )\n",
              "  )\n",
              ")], add_time=True, silent=False, cb_fns_registered=False)"
            ]
          },
          "metadata": {
            "tags": []
          },
          "execution_count": 20
        }
      ]
    },
    {
      "cell_type": "code",
      "metadata": {
        "id": "UucpPkxrqX97",
        "colab_type": "code",
        "outputId": "a4ac8d36-dcd6-4f5e-dd27-efdf2d9ca163",
        "colab": {
          "base_uri": "https://localhost:8080/",
          "height": 204
        }
      },
      "source": [
        "learn_clas.fit_one_cycle(5)"
      ],
      "execution_count": 0,
      "outputs": [
        {
          "output_type": "display_data",
          "data": {
            "text/html": [
              "<table border=\"1\" class=\"dataframe\">\n",
              "  <thead>\n",
              "    <tr style=\"text-align: left;\">\n",
              "      <th>epoch</th>\n",
              "      <th>train_loss</th>\n",
              "      <th>valid_loss</th>\n",
              "      <th>accuracy</th>\n",
              "      <th>time</th>\n",
              "    </tr>\n",
              "  </thead>\n",
              "  <tbody>\n",
              "    <tr>\n",
              "      <td>0</td>\n",
              "      <td>0.644827</td>\n",
              "      <td>0.673254</td>\n",
              "      <td>0.661692</td>\n",
              "      <td>00:14</td>\n",
              "    </tr>\n",
              "    <tr>\n",
              "      <td>1</td>\n",
              "      <td>0.592541</td>\n",
              "      <td>0.620803</td>\n",
              "      <td>0.671642</td>\n",
              "      <td>00:15</td>\n",
              "    </tr>\n",
              "    <tr>\n",
              "      <td>2</td>\n",
              "      <td>0.537566</td>\n",
              "      <td>0.517414</td>\n",
              "      <td>0.761194</td>\n",
              "      <td>00:14</td>\n",
              "    </tr>\n",
              "    <tr>\n",
              "      <td>3</td>\n",
              "      <td>0.503054</td>\n",
              "      <td>0.482044</td>\n",
              "      <td>0.791045</td>\n",
              "      <td>00:14</td>\n",
              "    </tr>\n",
              "    <tr>\n",
              "      <td>4</td>\n",
              "      <td>0.476742</td>\n",
              "      <td>0.468615</td>\n",
              "      <td>0.791045</td>\n",
              "      <td>00:14</td>\n",
              "    </tr>\n",
              "  </tbody>\n",
              "</table>"
            ],
            "text/plain": [
              "<IPython.core.display.HTML object>"
            ]
          },
          "metadata": {
            "tags": []
          }
        }
      ]
    },
    {
      "cell_type": "markdown",
      "metadata": {
        "id": "CUYuj-_oqfry",
        "colab_type": "text"
      },
      "source": [
        "# **4. Now lets see what we get using the representations we've got**"
      ]
    },
    {
      "cell_type": "code",
      "metadata": {
        "id": "f8G6vZnLqx6S",
        "colab_type": "code",
        "colab": {}
      },
      "source": [
        "mbe = MultiBatchEncoder(70,1400,learn_lm.model[0])"
      ],
      "execution_count": 0,
      "outputs": []
    },
    {
      "cell_type": "code",
      "metadata": {
        "id": "lkkhyO5Fql9b",
        "colab_type": "code",
        "colab": {}
      },
      "source": [
        "X_train = np.zeros(1200)\n",
        "for i in range(799):\n",
        "  xb,yb = learn_lm.data.one_item(data_clas.train_ds.x[i])\n",
        "  sentence = torch.cuda.LongTensor(xb.tolist()[0]).unsqueeze(0)\n",
        "  raw_outputs, outputs, masks = mbe.forward(sentence)\n",
        "  sentence_rep = masked_concat_pool(outputs, masks)\n",
        "  X_train = np.vstack((X_train,sentence_rep))"
      ],
      "execution_count": 0,
      "outputs": []
    },
    {
      "cell_type": "code",
      "metadata": {
        "id": "OK1mBNFir4tz",
        "colab_type": "code",
        "colab": {}
      },
      "source": [
        "X_valid = np.zeros(1200)\n",
        "for i in range(201):\n",
        "  xb,yb = learn_lm.data.one_item(data_clas.valid_ds.x[i])\n",
        "  sentence = torch.cuda.LongTensor(xb.tolist()[0]).unsqueeze(0)\n",
        "  raw_outputs, outputs, masks = mbe.forward(sentence)\n",
        "  sentence_rep = masked_concat_pool(outputs, masks)\n",
        "  X_valid = np.vstack((X_valid,sentence_rep))"
      ],
      "execution_count": 0,
      "outputs": []
    },
    {
      "cell_type": "code",
      "metadata": {
        "id": "CZWO9UaHrWuZ",
        "colab_type": "code",
        "colab": {}
      },
      "source": [
        "y_train = np.zeros(799)\n",
        "for i in range(799):\n",
        "  y_train[i] = int(data_clas.train_ds.y[i])"
      ],
      "execution_count": 0,
      "outputs": []
    },
    {
      "cell_type": "code",
      "metadata": {
        "id": "8sjI1JgBrzXb",
        "colab_type": "code",
        "colab": {}
      },
      "source": [
        "y_valid = np.zeros(201)\n",
        "for i in range(201):\n",
        "  y_valid[i] = int(data_clas.valid_ds.y[i])"
      ],
      "execution_count": 0,
      "outputs": []
    },
    {
      "cell_type": "code",
      "metadata": {
        "id": "WomWKT36zXsM",
        "colab_type": "code",
        "colab": {}
      },
      "source": [
        "X_train = np.delete(X_train, (0), axis=0)\n",
        "X_valid = np.delete(X_valid, (0), axis=0)"
      ],
      "execution_count": 0,
      "outputs": []
    },
    {
      "cell_type": "code",
      "metadata": {
        "id": "It4-rSuSr8Iz",
        "colab_type": "code",
        "outputId": "d7f89e31-d481-4c40-8ea0-15ddd9a49415",
        "colab": {
          "base_uri": "https://localhost:8080/",
          "height": 34
        }
      },
      "source": [
        "from sklearn.neural_network import MLPClassifier\n",
        "clf = MLPClassifier(alpha=1, max_iter=1000,)\n",
        "clf.fit(X_train,y_train)\n",
        "clf.score(X_valid,y_valid)"
      ],
      "execution_count": 0,
      "outputs": [
        {
          "output_type": "execute_result",
          "data": {
            "text/plain": [
              "0.746268656716418"
            ]
          },
          "metadata": {
            "tags": []
          },
          "execution_count": 40
        }
      ]
    }
  ]
}