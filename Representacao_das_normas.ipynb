{
  "nbformat": 4,
  "nbformat_minor": 0,
  "metadata": {
    "colab": {
      "name": "Representacao_das_normas.ipynb",
      "version": "0.3.2",
      "provenance": []
    },
    "kernelspec": {
      "name": "python3",
      "display_name": "Python 3"
    },
    "accelerator": "GPU"
  },
  "cells": [
    {
      "cell_type": "code",
      "metadata": {
        "id": "4gDu9mJxCY-y",
        "colab_type": "code",
        "colab": {}
      },
      "source": [
        "%reload_ext autoreload\n",
        "%autoreload 2\n",
        "%matplotlib inline"
      ],
      "execution_count": 0,
      "outputs": []
    },
    {
      "cell_type": "code",
      "metadata": {
        "id": "-soOvwurCc31",
        "colab_type": "code",
        "colab": {}
      },
      "source": [
        "from fastai import *\n",
        "from fastai.text import *"
      ],
      "execution_count": 0,
      "outputs": []
    },
    {
      "cell_type": "code",
      "metadata": {
        "id": "Cw1f2QAMFWRa",
        "colab_type": "code",
        "colab": {}
      },
      "source": [
        "!unzip Data.zip"
      ],
      "execution_count": 0,
      "outputs": []
    },
    {
      "cell_type": "code",
      "metadata": {
        "id": "UX0OhH0aXn7u",
        "colab_type": "code",
        "colab": {}
      },
      "source": [
        "path = '/content/Data'\n",
        "data_lm = (TextList.from_folder(path)\n",
        "          .split_by_rand_pct(valid_pct=0)\n",
        "          .label_for_lm()\n",
        "          .databunch())"
      ],
      "execution_count": 0,
      "outputs": []
    },
    {
      "cell_type": "code",
      "metadata": {
        "id": "EzaRNxAUYLd1",
        "colab_type": "code",
        "outputId": "3a80b43d-636d-4bd3-9ee7-5ad07c39fb6f",
        "colab": {
          "base_uri": "https://localhost:8080/",
          "height": 442
        }
      },
      "source": [
        "data_lm.show_batch()"
      ],
      "execution_count": 0,
      "outputs": [
        {
          "output_type": "display_data",
          "data": {
            "text/html": [
              "<table border=\"1\" class=\"dataframe\">\n",
              "  <thead>\n",
              "    <tr style=\"text-align: right;\">\n",
              "      <th>idx</th>\n",
              "      <th>text</th>\n",
              "    </tr>\n",
              "  </thead>\n",
              "  <tbody>\n",
              "    <tr>\n",
              "      <td>0</td>\n",
              "      <td>impurezas ; \\n  xxup ii xxunk de retenção ou de referência - amostra de intermediário ou de excipiente farmacêutico , xxunk pelo fabricante , devidamente identificada para avaliação futura da qualidade do lote ; \\n  xxup iii -área - espaço físico delimitado , onde são realizadas operações sob condições ambientais específicas , quando aplicável ; \\n  xxup iv xxunk - demonstração que um instrumento ou sistema de</td>\n",
              "    </tr>\n",
              "    <tr>\n",
              "      <td>1</td>\n",
              "      <td>os equipamentos estejam calibrados e \\n  qualificados e a manutenção seja realizada . \\n  xxmaj seção xxup iv \\n  xxmaj revisão da qualidade \\n  xxmaj art . 22 ° xxmaj revisões regulares da qualidade dos insumos farmacêuticos \\n  ativos devem ser conduzidas pelo menos anualmente , com \\n  o objetivo de verificar a consistência do processo . \\n  xxmaj art . 23 °</td>\n",
              "    </tr>\n",
              "    <tr>\n",
              "      <td>2</td>\n",
              "      <td>, de 5 de janeiro de 2018 ) \\n \\n  xxmaj art . 5º xxmaj no ato do desembaraço aduaneiro pela autoridade sanitária local , nos portos e aeroportos relacionados no xxmaj anexo xxup ii da presente xxmaj resolução , todos os lotes serão submetidos à análise de controle de qualidade quanto a atividade específica , ensaios químicos , sorológicos e documental . xxmaj para tanto a xxmaj gerência</td>\n",
              "    </tr>\n",
              "    <tr>\n",
              "      <td>3</td>\n",
              "      <td>para cada hemocomponente , de forma ordenada e racional . \\n  § 1 ° xxmaj os reagentes devem ser estocados em refrigeradores apropriados , os quais devem conservar apenas reagentes e amostras laboratoriais , salvo para serviços de hemoterapia com pequeno número de transfusões , pequeno o xxunk de modo que o armazenamento conjunto com hemocomponentes não comprometa a conservação dos mesmos . \\n  § 2 ° xxmaj</td>\n",
              "    </tr>\n",
              "    <tr>\n",
              "      <td>4</td>\n",
              "      <td>requisitos xxup para xxup aquisição e xxup qualificação xxup das xxup embalagens xxup para xxup acondicionamento xxup de xxup tecidos xxup humanos \\n  xxmaj seção i \\n  xxmaj disposições gerais \\n  xxmaj art . 5º xxmaj as embalagens primárias utilizadas no acondicionamento de tecidos humanos para fins terapêuticos não são passíveis de registro ou cadastro pela xxmaj anvisa . \\n  xxmaj parágrafo único . xxmaj excetuam</td>\n",
              "    </tr>\n",
              "  </tbody>\n",
              "</table>"
            ],
            "text/plain": [
              "<IPython.core.display.HTML object>"
            ]
          },
          "metadata": {
            "tags": []
          }
        }
      ]
    },
    {
      "cell_type": "code",
      "metadata": {
        "id": "vd18uTUeXsN6",
        "colab_type": "code",
        "colab": {}
      },
      "source": [
        "learn_lm = language_model_learner(data_lm, AWD_LSTM, drop_mult = 0.5, pretrained=False, callback_fns=ShowGraph)"
      ],
      "execution_count": 0,
      "outputs": []
    },
    {
      "cell_type": "code",
      "metadata": {
        "id": "gv2ffgwCXy5d",
        "colab_type": "code",
        "outputId": "5e4d8469-4c03-43ed-b75a-e73935bbd662",
        "colab": {
          "base_uri": "https://localhost:8080/",
          "height": 359
        }
      },
      "source": [
        "learn_lm.fit_one_cycle(10,2e-2,moms=(0.8,0.7))"
      ],
      "execution_count": 0,
      "outputs": [
        {
          "output_type": "display_data",
          "data": {
            "text/html": [
              "<table border=\"1\" class=\"dataframe\">\n",
              "  <thead>\n",
              "    <tr style=\"text-align: left;\">\n",
              "      <th>epoch</th>\n",
              "      <th>train_loss</th>\n",
              "      <th>valid_loss</th>\n",
              "      <th>accuracy</th>\n",
              "      <th>time</th>\n",
              "    </tr>\n",
              "  </thead>\n",
              "  <tbody>\n",
              "    <tr>\n",
              "      <td>0</td>\n",
              "      <td>3.988954</td>\n",
              "      <td>#na#</td>\n",
              "      <td>02:26</td>\n",
              "    </tr>\n",
              "    <tr>\n",
              "      <td>1</td>\n",
              "      <td>3.160364</td>\n",
              "      <td>#na#</td>\n",
              "      <td>02:26</td>\n",
              "    </tr>\n",
              "    <tr>\n",
              "      <td>2</td>\n",
              "      <td>3.118918</td>\n",
              "      <td>#na#</td>\n",
              "      <td>02:25</td>\n",
              "    </tr>\n",
              "    <tr>\n",
              "      <td>3</td>\n",
              "      <td>3.022444</td>\n",
              "      <td>#na#</td>\n",
              "      <td>02:25</td>\n",
              "    </tr>\n",
              "    <tr>\n",
              "      <td>4</td>\n",
              "      <td>2.804130</td>\n",
              "      <td>#na#</td>\n",
              "      <td>02:24</td>\n",
              "    </tr>\n",
              "    <tr>\n",
              "      <td>5</td>\n",
              "      <td>2.674793</td>\n",
              "      <td>#na#</td>\n",
              "      <td>02:24</td>\n",
              "    </tr>\n",
              "    <tr>\n",
              "      <td>6</td>\n",
              "      <td>2.486514</td>\n",
              "      <td>#na#</td>\n",
              "      <td>02:24</td>\n",
              "    </tr>\n",
              "    <tr>\n",
              "      <td>7</td>\n",
              "      <td>2.324395</td>\n",
              "      <td>#na#</td>\n",
              "      <td>02:24</td>\n",
              "    </tr>\n",
              "    <tr>\n",
              "      <td>8</td>\n",
              "      <td>2.147835</td>\n",
              "      <td>#na#</td>\n",
              "      <td>02:24</td>\n",
              "    </tr>\n",
              "    <tr>\n",
              "      <td>9</td>\n",
              "      <td>2.068325</td>\n",
              "      <td>#na#</td>\n",
              "      <td>02:24</td>\n",
              "    </tr>\n",
              "  </tbody>\n",
              "</table>"
            ],
            "text/plain": [
              "<IPython.core.display.HTML object>"
            ]
          },
          "metadata": {
            "tags": []
          }
        }
      ]
    },
    {
      "cell_type": "code",
      "metadata": {
        "id": "qqQ8aRXCRRAe",
        "colab_type": "code",
        "colab": {}
      },
      "source": [
        "import pickle\n",
        "\n",
        "with open('res.txt','rb') as fp: resolucoes = pickle.load(fp)"
      ],
      "execution_count": 0,
      "outputs": []
    },
    {
      "cell_type": "code",
      "metadata": {
        "id": "HvRLBfinHwep",
        "colab_type": "code",
        "colab": {}
      },
      "source": [
        "'''\n",
        "mat = np.zeros(1152)\n",
        "for resolucao in resolucoes:\n",
        "  xb,yb = learn_lm.data.one_item(resolucao)\n",
        "  sentence = torch.cuda.LongTensor(xb.tolist()[0]).unsqueeze(0)\n",
        "  raw_outputs, outputs = learn_lm.model[0].forward(sentence)\n",
        "  sentence_rep = outputs[0][-1][-1].cpu().detach().numpy()\n",
        "  mat = np.vstack((mat,sentence_rep))\n",
        " '''"
      ],
      "execution_count": 0,
      "outputs": []
    },
    {
      "cell_type": "code",
      "metadata": {
        "id": "0E8oCdrEjzM_",
        "colab_type": "code",
        "colab": {}
      },
      "source": [
        "def masked_concat_pool(outputs, mask):\n",
        "    \"Pool MultiBatchEncoder outputs into one vector [last_hidden, max_pool, avg_pool].\"\n",
        "    output = outputs[-1]\n",
        "    avg_pool = output.masked_fill(mask[:, :, None], 0).mean(dim=1)\n",
        "    avg_pool *= output.size(1) / (output.size(1)-mask.type(avg_pool.dtype).sum(dim=1))[:,None]\n",
        "    max_pool = output.masked_fill(mask[:,:,None], -float('inf')).max(dim=1)[0]\n",
        "    x = torch.cat([output[:,-1], max_pool, avg_pool], 1)\n",
        "    return x"
      ],
      "execution_count": 0,
      "outputs": []
    },
    {
      "cell_type": "code",
      "metadata": {
        "id": "IdwTWthwkAOC",
        "colab_type": "code",
        "outputId": "4e50eeee-b132-4982-cd10-92fe749473b2",
        "colab": {
          "base_uri": "https://localhost:8080/",
          "height": 34
        }
      },
      "source": [
        "mbe = MultiBatchEncoder(70,1400,learn_lm.model[0])\n",
        "xb,yb = learn_lm.data.one_item(resolucoes[0])\n",
        "sentence = torch.cuda.LongTensor(xb.tolist()[0]).unsqueeze(0)\n",
        "raw_outputs, outputs, masks = mbe.forward(sentence)\n",
        "sentence_rep = masked_concat_pool(outputs, masks)\n",
        "sentence_rep.shape"
      ],
      "execution_count": 0,
      "outputs": [
        {
          "output_type": "execute_result",
          "data": {
            "text/plain": [
              "torch.Size([1, 1200])"
            ]
          },
          "metadata": {
            "tags": []
          },
          "execution_count": 11
        }
      ]
    },
    {
      "cell_type": "code",
      "metadata": {
        "id": "uBqfNYirjSzt",
        "colab_type": "code",
        "colab": {}
      },
      "source": [
        "mbe = MultiBatchEncoder(70,1400,learn_lm.model[0])\n",
        "mat = np.zeros(1200)\n",
        "for resolucao in resolucoes:\n",
        "  xb,yb = learn_lm.data.one_item(resolucao)\n",
        "  sentence = torch.cuda.LongTensor(xb.tolist()[0]).unsqueeze(0)\n",
        "  raw_outputs, outputs, masks = mbe.forward(sentence)\n",
        "  sentence_rep = masked_concat_pool(outputs, masks)\n",
        "  mat = np.vstack((mat,sentence_rep))"
      ],
      "execution_count": 0,
      "outputs": []
    },
    {
      "cell_type": "code",
      "metadata": {
        "id": "7LxX7hscuUY3",
        "colab_type": "code",
        "outputId": "4a001fd0-e303-4567-b984-78c56ecd2d88",
        "colab": {
          "base_uri": "https://localhost:8080/",
          "height": 34
        }
      },
      "source": [
        "mat.shape"
      ],
      "execution_count": 0,
      "outputs": [
        {
          "output_type": "execute_result",
          "data": {
            "text/plain": [
              "(866, 1200)"
            ]
          },
          "metadata": {
            "tags": []
          },
          "execution_count": 13
        }
      ]
    },
    {
      "cell_type": "code",
      "metadata": {
        "id": "CkyOdWJUZ2Fw",
        "colab_type": "code",
        "colab": {}
      },
      "source": [
        "np.save('mat', mat)"
      ],
      "execution_count": 0,
      "outputs": []
    }
  ]
}