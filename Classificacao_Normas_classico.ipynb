{
 "cells": [
  {
   "cell_type": "code",
   "execution_count": 16,
   "metadata": {},
   "outputs": [],
   "source": [
    "import pandas as pd\n",
    "from sklearn.linear_model import LogisticRegression\n",
    "from classic_clustering import ClassicClustering\n",
    "from sklearn.model_selection import train_test_split\n",
    "import numpy as np\n",
    "from sklearn.ensemble import RandomForestClassifier\n",
    "from sklearn.naive_bayes import MultinomialNB"
   ]
  },
  {
   "cell_type": "code",
   "execution_count": 2,
   "metadata": {},
   "outputs": [],
   "source": [
    "df = pd.read_csv('Data.csv',sep='|',encoding='utf8')\n",
    "textos = list(df['textos'])"
   ]
  },
  {
   "cell_type": "code",
   "execution_count": 5,
   "metadata": {
    "scrolled": true
   },
   "outputs": [
    {
     "name": "stdout",
     "output_type": "stream",
     "text": [
      "CPU times: user 6 µs, sys: 0 ns, total: 6 µs\n",
      "Wall time: 13.6 µs\n",
      "Comecou a fazer o stemming.\n",
      "Tempo para fazer o stemming: 197.535870552063\n",
      "\n"
     ]
    },
    {
     "data": {
      "text/plain": [
       "<1800x52231 sparse matrix of type '<class 'numpy.float64'>'\n",
       "\twith 826465 stored elements in Compressed Sparse Row format>"
      ]
     },
     "execution_count": 5,
     "metadata": {},
     "output_type": "execute_result"
    }
   ],
   "source": [
    "%time\n",
    "cc = ClassicClustering()\n",
    "cc.define_stop_words()\n",
    "cc.textos_tratados = textos\n",
    "cc.stem()\n",
    "base_tfidf = cc.vec_tfidf()"
   ]
  },
  {
   "cell_type": "code",
   "execution_count": 8,
   "metadata": {},
   "outputs": [
    {
     "name": "stdout",
     "output_type": "stream",
     "text": [
      "Começou a redução de dimensionalidade.\n",
      "Número de dimensões de entrada: 52231\n",
      "600 dimensões explicam 0.8339714958250612 da variância.\n",
      "Tempo para fazer a redução de dimensionalidade: 37.13816833496094\n",
      "\n"
     ]
    }
   ],
   "source": [
    "n_dims = 600\n",
    "X = cc.SVD(base_tfidf, n_dims)"
   ]
  },
  {
   "cell_type": "code",
   "execution_count": 12,
   "metadata": {},
   "outputs": [],
   "source": [
    "macrotema_por_norma = list(df['macrotemas'])\n",
    "macrotemas = list(dict.fromkeys(macrotema_por_norma))\n",
    "\n",
    "di = dict.fromkeys(macrotema_por_norma)\n",
    "i=0\n",
    "for macrotema in macrotemas:\n",
    "    di[macrotema] = i\n",
    "    i+=1\n",
    "\n",
    "y = np.zeros(len(macrotema_por_norma))\n",
    "i=0\n",
    "for m in macrotema_por_norma:\n",
    "    y[i] = di[m]\n",
    "    i+=1"
   ]
  },
  {
   "cell_type": "code",
   "execution_count": 13,
   "metadata": {},
   "outputs": [],
   "source": [
    "X_train, X_test, y_train, y_test = train_test_split(X, y, test_size=0.2, random_state=42)"
   ]
  },
  {
   "cell_type": "code",
   "execution_count": 17,
   "metadata": {},
   "outputs": [],
   "source": [
    "models = [LogisticRegression(random_state=0, solver='lbfgs', multi_class='multinomial'),\n",
    "          RandomForestClassifier(n_estimators=100, max_depth=4,random_state=0),\n",
    "          MultinomialNB()]"
   ]
  },
  {
   "cell_type": "code",
   "execution_count": 18,
   "metadata": {},
   "outputs": [
    {
     "name": "stdout",
     "output_type": "stream",
     "text": [
      "0.7416666666666667\n",
      "0.4638888888888889\n",
      "0.42777777777777776\n"
     ]
    }
   ],
   "source": [
    "for model in models:\n",
    "    model.fit(X_train,y_train)\n",
    "    print(model.score(X_test,y_test))"
   ]
  }
 ],
 "metadata": {
  "kernelspec": {
   "display_name": "Python 3",
   "language": "python",
   "name": "python3"
  },
  "language_info": {
   "codemirror_mode": {
    "name": "ipython",
    "version": 3
   },
   "file_extension": ".py",
   "mimetype": "text/x-python",
   "name": "python",
   "nbconvert_exporter": "python",
   "pygments_lexer": "ipython3",
   "version": "3.7.4"
  }
 },
 "nbformat": 4,
 "nbformat_minor": 2
}
